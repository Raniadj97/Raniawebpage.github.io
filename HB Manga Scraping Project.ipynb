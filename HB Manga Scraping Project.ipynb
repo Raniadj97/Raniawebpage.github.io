{
 "cells": [
  {
   "cell_type": "code",
   "execution_count": 1,
   "id": "050ca2a1",
   "metadata": {},
   "outputs": [],
   "source": [
    "from bs4 import BeautifulSoup\n",
    "import requests\n",
    "import pandas as pd"
   ]
  },
  {
   "cell_type": "code",
   "execution_count": 26,
   "id": "e7f74d08",
   "metadata": {},
   "outputs": [],
   "source": [
    "manga = []\n",
    "for i in range(1,32):\n",
    "    URL = 'https://hbmangakissa.com/collections/librairie-1?page={i}'\n",
    "    page = requests.get(URL)\n",
    "    soup = BeautifulSoup(page.content, 'html.parser')\n",
    "    book_list = soup.find('div', class_ ='collection page-width')\n",
    "    articles = book_list.find_all('li', class_ = 'grid__item')\n",
    "\n",
    "    for article in articles: \n",
    "        title = article.find('a' , class_='full-unstyled-link').text\n",
    "        title = title.strip()\n",
    "        price = article.find('span', class_ = 'money').text\n",
    "        price = price[3:]\n",
    "        price = price.replace('.','')\n",
    "        price = int(price)\n",
    "        manga.append([title, price])"
   ]
  },
  {
   "cell_type": "code",
   "execution_count": 32,
   "id": "196cc0b5",
   "metadata": {},
   "outputs": [],
   "source": [
    "df = pd.DataFrame(manga, columns=['Title','Price'])\n",
    "df.to_csv('manga.csv', index= False)"
   ]
  },
  {
   "cell_type": "code",
   "execution_count": 38,
   "id": "1cf69b7c",
   "metadata": {},
   "outputs": [
    {
     "data": {
      "text/html": [
       "<div>\n",
       "<style scoped>\n",
       "    .dataframe tbody tr th:only-of-type {\n",
       "        vertical-align: middle;\n",
       "    }\n",
       "\n",
       "    .dataframe tbody tr th {\n",
       "        vertical-align: top;\n",
       "    }\n",
       "\n",
       "    .dataframe thead th {\n",
       "        text-align: right;\n",
       "    }\n",
       "</style>\n",
       "<table border=\"1\" class=\"dataframe\">\n",
       "  <thead>\n",
       "    <tr style=\"text-align: right;\">\n",
       "      <th></th>\n",
       "      <th>Title</th>\n",
       "      <th>Price</th>\n",
       "    </tr>\n",
       "  </thead>\n",
       "  <tbody>\n",
       "    <tr>\n",
       "      <th>0</th>\n",
       "      <td>Fairy Tail - Ice Trail T02</td>\n",
       "      <td>1500</td>\n",
       "    </tr>\n",
       "    <tr>\n",
       "      <th>1</th>\n",
       "      <td>Akane-banashi T02</td>\n",
       "      <td>1650</td>\n",
       "    </tr>\n",
       "    <tr>\n",
       "      <th>2</th>\n",
       "      <td>Akane-banashi T01</td>\n",
       "      <td>1650</td>\n",
       "    </tr>\n",
       "    <tr>\n",
       "      <th>3</th>\n",
       "      <td>Kamisama School T02</td>\n",
       "      <td>1650</td>\n",
       "    </tr>\n",
       "    <tr>\n",
       "      <th>4</th>\n",
       "      <td>Kaguya-sama - Love is War T16</td>\n",
       "      <td>1650</td>\n",
       "    </tr>\n",
       "    <tr>\n",
       "      <th>...</th>\n",
       "      <td>...</td>\n",
       "      <td>...</td>\n",
       "    </tr>\n",
       "    <tr>\n",
       "      <th>615</th>\n",
       "      <td>Neon Genesis Evangelion Perfect Edition - T07</td>\n",
       "      <td>3300</td>\n",
       "    </tr>\n",
       "    <tr>\n",
       "      <th>616</th>\n",
       "      <td>Hell’s Paradise T13</td>\n",
       "      <td>1850</td>\n",
       "    </tr>\n",
       "    <tr>\n",
       "      <th>617</th>\n",
       "      <td>Hell’s Paradise T12</td>\n",
       "      <td>1850</td>\n",
       "    </tr>\n",
       "    <tr>\n",
       "      <th>618</th>\n",
       "      <td>Hell’s Paradise T10</td>\n",
       "      <td>1850</td>\n",
       "    </tr>\n",
       "    <tr>\n",
       "      <th>619</th>\n",
       "      <td>Hell’s Paradise T09</td>\n",
       "      <td>1850</td>\n",
       "    </tr>\n",
       "  </tbody>\n",
       "</table>\n",
       "<p>620 rows × 2 columns</p>\n",
       "</div>"
      ],
      "text/plain": [
       "                                             Title  Price\n",
       "0                       Fairy Tail - Ice Trail T02   1500\n",
       "1                                Akane-banashi T02   1650\n",
       "2                                Akane-banashi T01   1650\n",
       "3                              Kamisama School T02   1650\n",
       "4                    Kaguya-sama - Love is War T16   1650\n",
       "..                                             ...    ...\n",
       "615  Neon Genesis Evangelion Perfect Edition - T07   3300\n",
       "616                            Hell’s Paradise T13   1850\n",
       "617                            Hell’s Paradise T12   1850\n",
       "618                            Hell’s Paradise T10   1850\n",
       "619                            Hell’s Paradise T09   1850\n",
       "\n",
       "[620 rows x 2 columns]"
      ]
     },
     "execution_count": 38,
     "metadata": {},
     "output_type": "execute_result"
    }
   ],
   "source": [
    "datamanga = pd.read_csv(r\"C:\\Users\\windows\\Desktop\\manga.csv\", index_col = False)\n",
    "datamanga\n",
    "#datamanga.replace('\\n','', regex= True)"
   ]
  },
  {
   "cell_type": "code",
   "execution_count": null,
   "id": "03107f77",
   "metadata": {},
   "outputs": [],
   "source": []
  }
 ],
 "metadata": {
  "kernelspec": {
   "display_name": "Python 3 (ipykernel)",
   "language": "python",
   "name": "python3"
  },
  "language_info": {
   "codemirror_mode": {
    "name": "ipython",
    "version": 3
   },
   "file_extension": ".py",
   "mimetype": "text/x-python",
   "name": "python",
   "nbconvert_exporter": "python",
   "pygments_lexer": "ipython3",
   "version": "3.10.9"
  }
 },
 "nbformat": 4,
 "nbformat_minor": 5
}
